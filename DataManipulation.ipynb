{
  "nbformat": 4,
  "nbformat_minor": 0,
  "metadata": {
    "colab": {
      "name": "DataManipulation.ipynb",
      "provenance": []
    },
    "kernelspec": {
      "name": "python3",
      "display_name": "Python 3"
    },
    "language_info": {
      "name": "python"
    }
  },
  "cells": [
    {
      "cell_type": "code",
      "metadata": {
        "id": "uS_ZbtzvGDnH"
      },
      "source": [
        "import pandas as pd\n",
        "import numpy as np"
      ],
      "execution_count": null,
      "outputs": []
    },
    {
      "cell_type": "code",
      "metadata": {
        "colab": {
          "base_uri": "https://localhost:8080/"
        },
        "id": "q1OFs5gMG9Rm",
        "outputId": "89521606-c3c0-476c-d766-1a3914fa97a9"
      },
      "source": [
        "number_list = pd.Series([1,2,3,4,5,6])\n",
        "print(\"Series:\")\n",
        "print(number_list)"
      ],
      "execution_count": null,
      "outputs": [
        {
          "output_type": "stream",
          "text": [
            "Series:\n",
            "0    1\n",
            "1    2\n",
            "2    3\n",
            "3    4\n",
            "4    5\n",
            "5    6\n",
            "dtype: int64\n"
          ],
          "name": "stdout"
        }
      ]
    },
    {
      "cell_type": "code",
      "metadata": {
        "colab": {
          "base_uri": "https://localhost:8080/"
        },
        "id": "efpFZgSRG_Tg",
        "outputId": "7a443457-34c5-412e-ed10-8f5f51b33659"
      },
      "source": [
        "matrix = [[1,2,3],\n",
        "          ['a','b','c'],\n",
        "          [3,4,5],\n",
        "          ['d',4,6]]\n",
        "matrix_list = pd.DataFrame(matrix)\n",
        "print(\"DataFrame:\")\n",
        "print(matrix_list)"
      ],
      "execution_count": null,
      "outputs": [
        {
          "output_type": "stream",
          "text": [
            "DataFrame:\n",
            "   0  1  2\n",
            "0  1  2  3\n",
            "1  a  b  c\n",
            "2  3  4  5\n",
            "3  d  4  6\n"
          ],
          "name": "stdout"
        }
      ]
    },
    {
      "cell_type": "code",
      "metadata": {
        "colab": {
          "base_uri": "https://localhost:8080/"
        },
        "id": "JsPJ1tQ4LYvI",
        "outputId": "725d3c92-370d-4ede-d819-2bd5167b8e36"
      },
      "source": [
        "print(\"[1] attribute .info()\")\n",
        "print(matrix_list.info())"
      ],
      "execution_count": null,
      "outputs": [
        {
          "output_type": "stream",
          "text": [
            "[1] attribute .info()\n",
            "<class 'pandas.core.frame.DataFrame'>\n",
            "RangeIndex: 4 entries, 0 to 3\n",
            "Data columns (total 3 columns):\n",
            " #   Column  Non-Null Count  Dtype \n",
            "---  ------  --------------  ----- \n",
            " 0   0       4 non-null      object\n",
            " 1   1       4 non-null      object\n",
            " 2   2       4 non-null      object\n",
            "dtypes: object(3)\n",
            "memory usage: 224.0+ bytes\n",
            "None\n"
          ],
          "name": "stdout"
        }
      ]
    },
    {
      "cell_type": "code",
      "metadata": {
        "colab": {
          "base_uri": "https://localhost:8080/"
        },
        "id": "Xy11-qhuLeqB",
        "outputId": "6f139aa0-779c-41b5-a292-51cff94ee364"
      },
      "source": [
        "print(\"\\n[2] attribute .shape\")\n",
        "print(\"    Shape dari number_list:\", number_list.shape)\n",
        "print(\"    Shape dari matrix_list:\", matrix_list.shape)"
      ],
      "execution_count": null,
      "outputs": [
        {
          "output_type": "stream",
          "text": [
            "\n",
            "[2] attribute .shape\n",
            "    Shape dari number_list: (6,)\n",
            "    Shape dari matrix_list: (4, 3)\n"
          ],
          "name": "stdout"
        }
      ]
    },
    {
      "cell_type": "code",
      "metadata": {
        "colab": {
          "base_uri": "https://localhost:8080/"
        },
        "id": "VViOdWHOLgXl",
        "outputId": "77ceb049-1956-4dcd-cc01-a2a761361994"
      },
      "source": [
        "print(\"\\n[3] attribute .dtypes\")\n",
        "print(\"    Tipe data number_list:\", number_list.dtypes)\n",
        "print(\"    Tipe data matrix_list:\", matrix_list.dtypes)"
      ],
      "execution_count": null,
      "outputs": [
        {
          "output_type": "stream",
          "text": [
            "\n",
            "[3] attribute .dtypes\n",
            "    Tipe data number_list: int64\n",
            "    Tipe data matrix_list: 0    object\n",
            "1    object\n",
            "2    object\n",
            "dtype: object\n"
          ],
          "name": "stdout"
        }
      ]
    },
    {
      "cell_type": "code",
      "metadata": {
        "colab": {
          "base_uri": "https://localhost:8080/"
        },
        "id": "eq5AKGNbLixs",
        "outputId": "8a7610f1-0473-4076-8d57-741d87ee44ff"
      },
      "source": [
        "print(\"\\n[4] attribute .astype()\")\n",
        "print(\"    Konversi number_list ke str:\", number_list.astype(\"str\"))\n",
        "print(\"    Konversi matrix_list ke str:\", matrix_list.astype(\"str\"))"
      ],
      "execution_count": null,
      "outputs": [
        {
          "output_type": "stream",
          "text": [
            "\n",
            "[4] attribute .astype()\n",
            "    Konversi number_list ke str: 0    1\n",
            "1    2\n",
            "2    3\n",
            "3    4\n",
            "4    5\n",
            "5    6\n",
            "dtype: object\n",
            "    Konversi matrix_list ke str:    0  1  2\n",
            "0  1  2  3\n",
            "1  a  b  c\n",
            "2  3  4  5\n",
            "3  d  4  6\n"
          ],
          "name": "stdout"
        }
      ]
    },
    {
      "cell_type": "code",
      "metadata": {
        "colab": {
          "base_uri": "https://localhost:8080/"
        },
        "id": "iDd4zOLoMSSv",
        "outputId": "7cb96fea-11e6-4cd6-de72-256c72e47a82"
      },
      "source": [
        "print(\"[5] attribute .copy()\")\n",
        "num_list = number_list.copy()\n",
        "print(\"    Copy number_list ke num_list:\", num_list)\n",
        "mtr_list = matrix_list.copy()\n",
        "print(\"    Copy matrix_list ke mtr_list:\", mtr_list)\t"
      ],
      "execution_count": null,
      "outputs": [
        {
          "output_type": "stream",
          "text": [
            "[5] attribute .copy()\n",
            "    Copy number_list ke num_list: 0    1\n",
            "1    2\n",
            "2    3\n",
            "3    4\n",
            "4    5\n",
            "5    6\n",
            "dtype: int64\n",
            "    Copy matrix_list ke mtr_list:    0  1  2\n",
            "0  1  2  3\n",
            "1  a  b  c\n",
            "2  3  4  5\n",
            "3  d  4  6\n"
          ],
          "name": "stdout"
        }
      ]
    },
    {
      "cell_type": "code",
      "metadata": {
        "colab": {
          "base_uri": "https://localhost:8080/"
        },
        "id": "GsENHAM-MW6w",
        "outputId": "7db48b77-7c82-46cd-e99f-3270343c800e"
      },
      "source": [
        "print(\"[6] attribute .to_list()\")\n",
        "print(number_list.to_list())"
      ],
      "execution_count": null,
      "outputs": [
        {
          "output_type": "stream",
          "text": [
            "[6] attribute .to_list()\n",
            "[1, 2, 3, 4, 5, 6]\n"
          ],
          "name": "stdout"
        }
      ]
    },
    {
      "cell_type": "code",
      "metadata": {
        "colab": {
          "base_uri": "https://localhost:8080/"
        },
        "id": "801pI5nZMYk1",
        "outputId": "577a996f-2741-4f94-d74e-dbdc0cc8f19d"
      },
      "source": [
        "print(\"[7] attribute .unique()\")\n",
        "print(number_list.unique())"
      ],
      "execution_count": null,
      "outputs": [
        {
          "output_type": "stream",
          "text": [
            "[7] attribute .unique()\n",
            "[1 2 3 4 5 6]\n"
          ],
          "name": "stdout"
        }
      ]
    },
    {
      "cell_type": "code",
      "metadata": {
        "colab": {
          "base_uri": "https://localhost:8080/"
        },
        "id": "vF5XWvl3Nxvl",
        "outputId": "495706a8-2d37-4e32-d209-b9bb623a0e8d"
      },
      "source": [
        "print(\"[8] attribute .index\")\n",
        "print(\"    Index number_list:\", number_list.index)\n",
        "print(\"    Index matrix_list:\", matrix_list.index)\t"
      ],
      "execution_count": null,
      "outputs": [
        {
          "output_type": "stream",
          "text": [
            "[8] attribute .index\n",
            "    Index number_list: RangeIndex(start=0, stop=6, step=1)\n",
            "    Index matrix_list: RangeIndex(start=0, stop=4, step=1)\n"
          ],
          "name": "stdout"
        }
      ]
    },
    {
      "cell_type": "code",
      "metadata": {
        "colab": {
          "base_uri": "https://localhost:8080/"
        },
        "id": "05t-d2viN-fO",
        "outputId": "fbbb7b34-4cf7-4fac-eec7-f6859923c159"
      },
      "source": [
        "print(\"[9] attribute .columns\")\n",
        "print(\"    Column matrix_list:\", matrix_list.columns)"
      ],
      "execution_count": null,
      "outputs": [
        {
          "output_type": "stream",
          "text": [
            "[9] attribute .columns\n",
            "    Column matrix_list: RangeIndex(start=0, stop=3, step=1)\n"
          ],
          "name": "stdout"
        }
      ]
    },
    {
      "cell_type": "code",
      "metadata": {
        "colab": {
          "base_uri": "https://localhost:8080/"
        },
        "id": "05Qd9s88OAc5",
        "outputId": "e868eee6-b22d-4ced-c702-b4d943549747"
      },
      "source": [
        "print(\"[10] attribute .loc\")\n",
        "print(\"    .loc[0:1] pada number_list:\", number_list.loc[0:1])\n",
        "print(\"    .loc[0:1] pada matrix_list:\", matrix_list.loc[0:1])"
      ],
      "execution_count": null,
      "outputs": [
        {
          "output_type": "stream",
          "text": [
            "[10] attribute .loc\n",
            "    .loc[0:1] pada number_list: 0    1\n",
            "1    2\n",
            "dtype: int64\n",
            "    .loc[0:1] pada matrix_list:    0  1  2\n",
            "0  1  2  3\n",
            "1  a  b  c\n"
          ],
          "name": "stdout"
        }
      ]
    },
    {
      "cell_type": "code",
      "metadata": {
        "colab": {
          "base_uri": "https://localhost:8080/"
        },
        "id": "qBarmu6kOCS4",
        "outputId": "242daef8-6073-465e-a4fe-9e3ac929f26f"
      },
      "source": [
        "print(\"[11] attribute .iloc\")\n",
        "print(\"    iloc[0:1] pada number_list:\", number_list.iloc[0:1])\n",
        "print(\"    iloc[0:1] pada matrix_list:\", matrix_list.iloc[0:1])\t"
      ],
      "execution_count": null,
      "outputs": [
        {
          "output_type": "stream",
          "text": [
            "[11] attribute .iloc\n",
            "    iloc[0:1] pada number_list: 0    1\n",
            "dtype: int64\n",
            "    iloc[0:1] pada matrix_list:    0  1  2\n",
            "0  1  2  3\n"
          ],
          "name": "stdout"
        }
      ]
    },
    {
      "cell_type": "code",
      "metadata": {
        "colab": {
          "base_uri": "https://localhost:8080/"
        },
        "id": "3Xfrj49NOL_1",
        "outputId": "9c62cd4b-7858-45fd-e744-62ff04caebe1"
      },
      "source": [
        "matrix = [[1,2,3],\n",
        "          ['a','b','c'],\n",
        "          [3,4,5],\n",
        "          ['d',4,6]]\n",
        "matrix_list = pd.DataFrame(matrix)\n",
        "\n",
        "matrix_list.iloc[0:2,2].to_list()"
      ],
      "execution_count": null,
      "outputs": [
        {
          "output_type": "execute_result",
          "data": {
            "text/plain": [
              "[3, 'c']"
            ]
          },
          "metadata": {
            "tags": []
          },
          "execution_count": 20
        }
      ]
    },
    {
      "cell_type": "code",
      "metadata": {
        "colab": {
          "base_uri": "https://localhost:8080/"
        },
        "id": "M6PeX4cQPYWZ",
        "outputId": "2d162947-49d0-4de1-d25f-26a4e0ab543a"
      },
      "source": [
        "ex_list = ['a',1,3,5,'c','d']\n",
        "ex_series = pd.Series(ex_list)\n",
        "print(ex_series)\n",
        "\n",
        "ex_list_of_list = [[1, 'a', 'b', 'c'],\n",
        "                   [2.5, 'd', 'e', 'f'],\n",
        "\t\t           [5, 'g', 'h', 'i'],\n",
        "\t\t           [7.5, 'j', 10.5, 'l']]\n",
        "index = ['dq', 'lab', 'kar', 'lan']\n",
        "cols = ['float', 'char', 'obj', 'char']\n",
        "ex_df = pd.DataFrame(ex_list_of_list, index=index, columns=cols)\n",
        "print(ex_df)"
      ],
      "execution_count": null,
      "outputs": [
        {
          "output_type": "stream",
          "text": [
            "0    a\n",
            "1    1\n",
            "2    3\n",
            "3    5\n",
            "4    c\n",
            "5    d\n",
            "dtype: object\n",
            "     float char   obj char\n",
            "dq     1.0    a     b    c\n",
            "lab    2.5    d     e    f\n",
            "kar    5.0    g     h    i\n",
            "lan    7.5    j  10.5    l\n"
          ],
          "name": "stdout"
        }
      ]
    },
    {
      "cell_type": "code",
      "metadata": {
        "colab": {
          "base_uri": "https://localhost:8080/"
        },
        "id": "mfW4ZJBYQFMI",
        "outputId": "02cd5c5f-279b-4eae-fb8f-91c125b9b5d0"
      },
      "source": [
        "dict_series = {'1':'a',\n",
        "\t\t\t   '2':'b',\n",
        "\t\t\t   '3':'c'}\n",
        "ex_series = pd.Series(dict_series)\n",
        "print(ex_series)\n",
        "print(\"\")\n",
        "\n",
        "df_series = {'1':['a', 'b', 'c'],\n",
        "             '2':['b', 'c', 'd'],\n",
        "             '3':[2,3,'z']}\n",
        "ex_df = pd.DataFrame(df_series)\n",
        "print(ex_df)"
      ],
      "execution_count": null,
      "outputs": [
        {
          "output_type": "stream",
          "text": [
            "1    a\n",
            "2    b\n",
            "3    c\n",
            "dtype: object\n",
            "\n",
            "   1  2  3\n",
            "0  a  b  2\n",
            "1  b  c  3\n",
            "2  c  d  z\n"
          ],
          "name": "stdout"
        }
      ]
    },
    {
      "cell_type": "code",
      "metadata": {
        "colab": {
          "base_uri": "https://localhost:8080/"
        },
        "id": "eNqMecxsRG7j",
        "outputId": "610a3ffa-dead-42ca-a591-82be2f8fda6a"
      },
      "source": [
        "arr_series = np.array([1,2,3,4,5,6,6,7,])\n",
        "ex_series = pd.Series(arr_series)\n",
        "print(ex_series)"
      ],
      "execution_count": null,
      "outputs": [
        {
          "output_type": "stream",
          "text": [
            "0    1\n",
            "1    2\n",
            "2    3\n",
            "3    4\n",
            "4    5\n",
            "5    6\n",
            "6    6\n",
            "7    7\n",
            "dtype: int64\n"
          ],
          "name": "stdout"
        }
      ]
    },
    {
      "cell_type": "code",
      "metadata": {
        "colab": {
          "base_uri": "https://localhost:8080/"
        },
        "id": "BsMWZebbRQJ2",
        "outputId": "5baf0f96-a58e-4aa1-c674-4ff478b7a772"
      },
      "source": [
        "arr_df = np.array([[1, 2, 3, 5],\n",
        "                   [5, 6, 7, 8],\n",
        "                   ['a', 'b', 'c', 10]])\n",
        "ex_df = pd.DataFrame(arr_df)\n",
        "print(ex_df)"
      ],
      "execution_count": null,
      "outputs": [
        {
          "output_type": "stream",
          "text": [
            "   0  1  2   3\n",
            "0  1  2  3   5\n",
            "1  5  6  7   8\n",
            "2  a  b  c  10\n"
          ],
          "name": "stdout"
        }
      ]
    },
    {
      "cell_type": "code",
      "metadata": {
        "colab": {
          "base_uri": "https://localhost:8080/"
        },
        "id": "8tgaRJH87PBW",
        "outputId": "2a70f034-cf52-4e20-da7c-3c384fd542fe"
      },
      "source": [
        "import pandas as pd\n",
        "\n",
        "df_csv = pd.read_csv('https://storage.googleapis.com/dqlab-dataset/sample_csv.csv')\n",
        "print(df_csv.head(3))\n",
        "df_csv.to_csv(\"csv1.csv\", index=False)"
      ],
      "execution_count": null,
      "outputs": [
        {
          "output_type": "stream",
          "text": [
            "   order_id  order_date  customer_id  ...    brand quantity item_price\n",
            "0   1612339  2019-01-01        18055  ...  BRAND_C        4    1934000\n",
            "1   1612339  2019-01-01        18055  ...  BRAND_V        8     604000\n",
            "2   1612339  2019-01-01        18055  ...  BRAND_G       12     747000\n",
            "\n",
            "[3 rows x 9 columns]\n"
          ],
          "name": "stdout"
        }
      ]
    },
    {
      "cell_type": "code",
      "metadata": {
        "colab": {
          "base_uri": "https://localhost:8080/"
        },
        "id": "xhBXhQB_7Tzu",
        "outputId": "2879a161-6ab1-46bd-8b7e-bea850998b53"
      },
      "source": [
        "df_tsv = pd.read_csv('https://storage.googleapis.com/dqlab-dataset/sample_tsv.tsv', sep='\\t')\n",
        "print(df_tsv.head(3))\n",
        "df_tsv.to_csv(\"tsv1.tsv\", index=False, sep='\\t')"
      ],
      "execution_count": null,
      "outputs": [
        {
          "output_type": "stream",
          "text": [
            "   order_id  order_date  customer_id  ...    brand quantity item_price\n",
            "0   1612339  2019-01-01        18055  ...  BRAND_C        4    1934000\n",
            "1   1612339  2019-01-01        18055  ...  BRAND_V        8     604000\n",
            "2   1612339  2019-01-01        18055  ...  BRAND_G       12     747000\n",
            "\n",
            "[3 rows x 9 columns]\n"
          ],
          "name": "stdout"
        }
      ]
    },
    {
      "cell_type": "code",
      "metadata": {
        "colab": {
          "base_uri": "https://localhost:8080/"
        },
        "id": "2ziuzRZ48Cwp",
        "outputId": "86b733d3-c9e7-4a5a-a02f-b4f68dde24ea"
      },
      "source": [
        "df_excel = pd.read_excel(\"https://storage.googleapis.com/dqlab-dataset/sample_excel.xlsx\", sheet_name=\"test\")\n",
        "print(df_excel.head(4))\n",
        "df_excel.to_excel(\"xlsx1.xlsx\", index=False)"
      ],
      "execution_count": null,
      "outputs": [
        {
          "output_type": "stream",
          "text": [
            "   order_id  order_date  customer_id  ...    brand quantity item_price\n",
            "0   1612339  2019-01-01        18055  ...  BRAND_C        4    1934000\n",
            "1   1612339  2019-01-01        18055  ...  BRAND_V        8     604000\n",
            "2   1612339  2019-01-01        18055  ...  BRAND_G       12     747000\n",
            "3   1612339  2019-01-01        18055  ...  BRAND_B       12     450000\n",
            "\n",
            "[4 rows x 9 columns]\n"
          ],
          "name": "stdout"
        }
      ]
    },
    {
      "cell_type": "code",
      "metadata": {
        "colab": {
          "base_uri": "https://localhost:8080/"
        },
        "id": "BPOfN55I8fnf",
        "outputId": "da3e6ade-a6fb-47b4-fc35-f83c469a82b3"
      },
      "source": [
        "url = \"https://storage.googleapis.com/dqlab-dataset/covid2019-api-herokuapp-v2.json\"\n",
        "df_json = pd.read_json(url)\n",
        "print(df_json.head(10))"
      ],
      "execution_count": null,
      "outputs": [
        {
          "output_type": "stream",
          "text": [
            "                                                data          dt          ts\n",
            "0  {'location': 'US', 'confirmed': 3363056, 'deat...  07-14-2020  1594684800\n",
            "1  {'location': 'Brazil', 'confirmed': 1884967, '...  07-14-2020  1594684800\n",
            "2  {'location': 'India', 'confirmed': 906752, 'de...  07-14-2020  1594684800\n",
            "3  {'location': 'Russia', 'confirmed': 732547, 'd...  07-14-2020  1594684800\n",
            "4  {'location': 'Peru', 'confirmed': 330123, 'dea...  07-14-2020  1594684800\n",
            "5  {'location': 'Chile', 'confirmed': 317657, 'de...  07-14-2020  1594684800\n",
            "6  {'location': 'Mexico', 'confirmed': 304435, 'd...  07-14-2020  1594684800\n",
            "7  {'location': 'United Kingdom', 'confirmed': 29...  07-14-2020  1594684800\n",
            "8  {'location': 'South Africa', 'confirmed': 2877...  07-14-2020  1594684800\n",
            "9  {'location': 'Iran', 'confirmed': 259652, 'dea...  07-14-2020  1594684800\n"
          ],
          "name": "stdout"
        }
      ]
    },
    {
      "cell_type": "code",
      "metadata": {
        "colab": {
          "base_uri": "https://localhost:8080/"
        },
        "id": "TBBRQQbxASMI",
        "outputId": "d7753682-5ba6-42f9-f6e9-3ec4897f6560"
      },
      "source": [
        "df = pd.read_csv(\"https://storage.googleapis.com/dqlab-dataset/sample_csv.csv\")\n",
        "\n",
        "print(\"Tiga data teratas:\\n\", df.head(3))\n",
        "print(\"Tiga data terbawah:\\n\", df.tail(3))"
      ],
      "execution_count": null,
      "outputs": [
        {
          "output_type": "stream",
          "text": [
            "Tiga data teratas:\n",
            "    order_id  order_date  customer_id  ...    brand quantity item_price\n",
            "0   1612339  2019-01-01        18055  ...  BRAND_C        4    1934000\n",
            "1   1612339  2019-01-01        18055  ...  BRAND_V        8     604000\n",
            "2   1612339  2019-01-01        18055  ...  BRAND_G       12     747000\n",
            "\n",
            "[3 rows x 9 columns]\n",
            "Tiga data terbawah:\n",
            "      order_id  order_date  customer_id  ...    brand quantity item_price\n",
            "98    1612390  2019-01-01        12681  ...  BRAND_S       24     450000\n",
            "99    1612390  2019-01-01        12681  ...  BRAND_S       24     450000\n",
            "100   1612390  2019-01-01        12681  ...  BRAND_B        4    1325000\n",
            "\n",
            "[3 rows x 9 columns]\n"
          ],
          "name": "stdout"
        }
      ]
    },
    {
      "cell_type": "markdown",
      "metadata": {
        "id": "7R3gKYGdAnQQ"
      },
      "source": [
        "Lakukan analisis dengan menggunakan BigQuery karena ada beberapa data BigQuery public datasets yang informasinya akurat dan sudah banyak data point nya sehingga sudah bisa digunakan. Tapi masalahnya, ada beberapa data adhoc yang bergantung tim lain yang belum terlalu melek data, dan datanya masih disimpan dalam bentuk CSV. Bagaimana langkah efektif yang dapat diambil untuk melakukan analisis gabungan data dari BigQuery dan CSV?\n",
        "\n",
        "Pertama, upload data CSV ke BigQuery, lakukan analisis di dalam BigQuery/export to pandas menggunakan pd.read_gbq. Kedua, Export data BigQuery menggunakan pd.read_gbq as dataframe, kemudian baca file csv menggunakan pd.read_csv dan akhirnya melakukan analisis gabungan di python."
      ]
    },
    {
      "cell_type": "code",
      "metadata": {
        "colab": {
          "base_uri": "https://localhost:8080/"
        },
        "id": "XhYP0MUuJkLo",
        "outputId": "8bdd81b7-c06c-46bc-f929-bbad0ef27f7d"
      },
      "source": [
        "# Index, Slicing, and Transforming\n",
        "\n",
        "import pandas as pd\n",
        "\n",
        "df = pd.read_csv(\"https://storage.googleapis.com/dqlab-dataset/sample_csv.csv\", sep=\"\\t\")\n",
        "print(\"Index:\", df.index)\n",
        "print(\"Columns:\", df.columns)"
      ],
      "execution_count": null,
      "outputs": [
        {
          "output_type": "stream",
          "text": [
            "Index: RangeIndex(start=0, stop=101, step=1)\n",
            "Columns: Index(['order_id,order_date,customer_id,city,province,product_id,brand,quantity,item_price'], dtype='object')\n"
          ],
          "name": "stdout"
        }
      ]
    },
    {
      "cell_type": "code",
      "metadata": {
        "colab": {
          "base_uri": "https://localhost:8080/"
        },
        "id": "XMA7xws4Lc_s",
        "outputId": "aba5f0cc-9500-4fc6-8ee2-d3929c9c594b"
      },
      "source": [
        "df = pd.read_csv(\"https://storage.googleapis.com/dqlab-dataset/sample_tsv.tsv\", sep=\"\\t\")\n",
        "df_x = df.set_index(['order_date', 'city', 'customer_id'])\n",
        "for name, level in zip(df_x.index.names, df_x.index.levels):\n",
        "    print(name,':',level)"
      ],
      "execution_count": null,
      "outputs": [
        {
          "output_type": "stream",
          "text": [
            "order_date : Index(['2019-01-01'], dtype='object', name='order_date')\n",
            "city : Index(['Bogor', 'Jakarta Pusat', 'Jakarta Selatan', 'Jakarta Utara',\n",
            "       'Makassar', 'Malang', 'Surabaya', 'Tangerang'],\n",
            "      dtype='object', name='city')\n",
            "customer_id : Int64Index([12681, 13963, 15649, 17091, 17228, 17450, 17470, 17511, 17616,\n",
            "            18055],\n",
            "           dtype='int64', name='customer_id')\n"
          ],
          "name": "stdout"
        }
      ]
    },
    {
      "cell_type": "code",
      "metadata": {
        "colab": {
          "base_uri": "https://localhost:8080/"
        },
        "id": "bl3QKmtiNSJ5",
        "outputId": "ac8ce6a0-cf0a-439a-d841-97730fbc220d"
      },
      "source": [
        "df = pd.read_csv(\"https://storage.googleapis.com/dqlab-dataset/sample_tsv.tsv\", sep=\"\\t\", nrows=10)\n",
        "\n",
        "print(\"Dataframe awal:\\n\", df)\n",
        "df.index = [\"Pesanan ke-\" + str(i) for i in range(1, 11)]\n",
        "print(\"Dataframe dengan index baru:\\n\", df)"
      ],
      "execution_count": null,
      "outputs": [
        {
          "output_type": "stream",
          "text": [
            "Dataframe awal:\n",
            "    order_id  order_date  customer_id  ...    brand quantity item_price\n",
            "0   1612339  2019-01-01        18055  ...  BRAND_C        4    1934000\n",
            "1   1612339  2019-01-01        18055  ...  BRAND_V        8     604000\n",
            "2   1612339  2019-01-01        18055  ...  BRAND_G       12     747000\n",
            "3   1612339  2019-01-01        18055  ...  BRAND_B       12     450000\n",
            "4   1612339  2019-01-01        18055  ...  BRAND_G        3    1500000\n",
            "5   1612339  2019-01-01        18055  ...  BRAND_V        3    2095000\n",
            "6   1612339  2019-01-01        18055  ...  BRAND_H        3    2095000\n",
            "7   1612339  2019-01-01        18055  ...  BRAND_S        3    1745000\n",
            "8   1612339  2019-01-01        18055  ...  BRAND_F        6    1045000\n",
            "9   1612339  2019-01-01        18055  ...  BRAND_P        6    1045000\n",
            "\n",
            "[10 rows x 9 columns]\n",
            "Dataframe dengan index baru:\n",
            "                order_id  order_date  customer_id  ...    brand quantity item_price\n",
            "Pesanan ke-1    1612339  2019-01-01        18055  ...  BRAND_C        4    1934000\n",
            "Pesanan ke-2    1612339  2019-01-01        18055  ...  BRAND_V        8     604000\n",
            "Pesanan ke-3    1612339  2019-01-01        18055  ...  BRAND_G       12     747000\n",
            "Pesanan ke-4    1612339  2019-01-01        18055  ...  BRAND_B       12     450000\n",
            "Pesanan ke-5    1612339  2019-01-01        18055  ...  BRAND_G        3    1500000\n",
            "Pesanan ke-6    1612339  2019-01-01        18055  ...  BRAND_V        3    2095000\n",
            "Pesanan ke-7    1612339  2019-01-01        18055  ...  BRAND_H        3    2095000\n",
            "Pesanan ke-8    1612339  2019-01-01        18055  ...  BRAND_S        3    1745000\n",
            "Pesanan ke-9    1612339  2019-01-01        18055  ...  BRAND_F        6    1045000\n",
            "Pesanan ke-10   1612339  2019-01-01        18055  ...  BRAND_P        6    1045000\n",
            "\n",
            "[10 rows x 9 columns]\n"
          ],
          "name": "stdout"
        }
      ]
    },
    {
      "cell_type": "code",
      "metadata": {
        "colab": {
          "base_uri": "https://localhost:8080/"
        },
        "id": "odpm6EYnOERe",
        "outputId": "ad04aa9f-1053-482f-b494-6e13cf7f4bfb"
      },
      "source": [
        "df = pd.read_csv(\"https://storage.googleapis.com/dqlab-dataset/sample_tsv.tsv\", sep=\"\\t\", index_col=[\"order_date\", \"order_id\"])\n",
        "print(\"Dataframe:\\n\", df.head(8))"
      ],
      "execution_count": null,
      "outputs": [
        {
          "output_type": "stream",
          "text": [
            "Dataframe:\n",
            "                      customer_id             city  ... quantity item_price\n",
            "order_date order_id                                ...                    \n",
            "2019-01-01 1612339         18055  Jakarta Selatan  ...        4    1934000\n",
            "           1612339         18055  Jakarta Selatan  ...        8     604000\n",
            "           1612339         18055  Jakarta Selatan  ...       12     747000\n",
            "           1612339         18055  Jakarta Selatan  ...       12     450000\n",
            "           1612339         18055  Jakarta Selatan  ...        3    1500000\n",
            "           1612339         18055  Jakarta Selatan  ...        3    2095000\n",
            "           1612339         18055  Jakarta Selatan  ...        3    2095000\n",
            "           1612339         18055  Jakarta Selatan  ...        3    1745000\n",
            "\n",
            "[8 rows x 7 columns]\n"
          ],
          "name": "stdout"
        }
      ]
    },
    {
      "cell_type": "code",
      "metadata": {
        "id": "H7-C7EDTOPsw",
        "colab": {
          "base_uri": "https://localhost:8080/"
        },
        "outputId": "dc51c467-dad7-4fb3-d13d-7c4c90d09d38"
      },
      "source": [
        "df_week = pd.DataFrame({'day_number':[1,2,3,4,5,6,7],\n",
        "                        'week_type':['weekday' for i in range(5)] + ['weekend' for i in range(2)]\n",
        "                       })\n",
        "df_week_ix = ['Mon','Tue','Wed','Thu','Fri','Sat','Sun']\n",
        "df_week.index = [df_week_ix, df_week['day_number'].to_list()]\n",
        "df_week.index.names = ['name','num']\n",
        "print(df_week)"
      ],
      "execution_count": null,
      "outputs": [
        {
          "output_type": "stream",
          "text": [
            "          day_number week_type\n",
            "name num                      \n",
            "Mon  1             1   weekday\n",
            "Tue  2             2   weekday\n",
            "Wed  3             3   weekday\n",
            "Thu  4             4   weekday\n",
            "Fri  5             5   weekday\n",
            "Sat  6             6   weekend\n",
            "Sun  7             7   weekend\n"
          ],
          "name": "stdout"
        }
      ]
    },
    {
      "cell_type": "code",
      "metadata": {
        "colab": {
          "base_uri": "https://localhost:8080/"
        },
        "id": "50wCwS2KS1kG",
        "outputId": "4caefa24-e859-43b8-9bff-68aeb55e2dff"
      },
      "source": [
        "import pandas as pd\n",
        "\n",
        "df = pd.read_csv(\"https://storage.googleapis.com/dqlab-dataset/sample_csv.csv\")\n",
        "df_slice = df.loc[(df[\"order_date\"] == \"2019-01-01\") &\n",
        "\t\t          (df[\"product_id\"].isin([\"P2154\", \"P2556\"]))\n",
        "\t\t\t\t ]\n",
        "print(\"Slice langsung berdasarkan kolom:\\n\", df_slice)"
      ],
      "execution_count": null,
      "outputs": [
        {
          "output_type": "stream",
          "text": [
            "Slice langsung berdasarkan kolom:\n",
            "     order_id  order_date  customer_id  ...    brand quantity item_price\n",
            "9    1612339  2019-01-01        18055  ...  BRAND_P        6    1045000\n",
            "10   1612339  2019-01-01        18055  ...  BRAND_M        4    1745000\n",
            "\n",
            "[2 rows x 9 columns]\n"
          ],
          "name": "stdout"
        }
      ]
    },
    {
      "cell_type": "code",
      "metadata": {
        "colab": {
          "base_uri": "https://localhost:8080/"
        },
        "id": "k3eFXNGZULC5",
        "outputId": "2ca53abd-e1f5-4553-f963-c729eca26a15"
      },
      "source": [
        "df = pd.read_csv(\"https://storage.googleapis.com/dqlab-dataset/sample_csv.csv\")\n",
        "df = df.set_index([\"order_date\", \"order_id\", \"product_id\"])\n",
        "df_slice = df.loc[(\"2019-01-01\", 1612339, [\"P2154\", \"P2159\"]),:]\n",
        "print(\"Slice df:\\n\", df_slice)"
      ],
      "execution_count": null,
      "outputs": [
        {
          "output_type": "stream",
          "text": [
            "Slice df:\n",
            "                                 customer_id  ... item_price\n",
            "order_date order_id product_id               ...           \n",
            "2019-01-01 1612339  P2154             18055  ...    1745000\n",
            "                    P2159             18055  ...     310000\n",
            "\n",
            "[2 rows x 6 columns]\n"
          ],
          "name": "stdout"
        }
      ]
    },
    {
      "cell_type": "code",
      "metadata": {
        "colab": {
          "base_uri": "https://localhost:8080/"
        },
        "id": "CBwDyks5V2Tl",
        "outputId": "386407f9-5b23-4e9c-89d0-d725cc1223b4"
      },
      "source": [
        "df = pd.read_csv(\"https://storage.googleapis.com/dqlab-dataset/sample_csv.csv\")\n",
        "\n",
        "print(\"Tipe data df:\\n\", df.dtypes)\n",
        "df[\"order_date\"] = pd.to_datetime(df[\"order_date\"])\n",
        "df[\"quantity\"] = pd.to_numeric(df[\"quantity\"], downcast=\"float\")\n",
        "df[\"city\"] = df[\"city\"].astype(\"category\")\n",
        "print(\"\\nTipe data df setelah transformasi:\\n\", df.dtypes)"
      ],
      "execution_count": null,
      "outputs": [
        {
          "output_type": "stream",
          "text": [
            "Tipe data df:\n",
            " order_id        int64\n",
            "order_date     object\n",
            "customer_id     int64\n",
            "city           object\n",
            "province       object\n",
            "product_id     object\n",
            "brand          object\n",
            "quantity        int64\n",
            "item_price      int64\n",
            "dtype: object\n",
            "\n",
            "Tipe data df setelah transformasi:\n",
            " order_id                int64\n",
            "order_date     datetime64[ns]\n",
            "customer_id             int64\n",
            "city                 category\n",
            "province               object\n",
            "product_id             object\n",
            "brand                  object\n",
            "quantity              float32\n",
            "item_price              int64\n",
            "dtype: object\n"
          ],
          "name": "stdout"
        }
      ]
    },
    {
      "cell_type": "code",
      "metadata": {
        "colab": {
          "base_uri": "https://localhost:8080/"
        },
        "id": "gKcBwgGSXsUt",
        "outputId": "9249e6b1-d7b8-4d4f-dba8-b7d29e4cd511"
      },
      "source": [
        "df = pd.read_csv(\"https://storage.googleapis.com/dqlab-dataset/sample_csv.csv\")\n",
        "\n",
        "print(\"Kolom brand awal:\\n\", df[\"brand\"].head())\n",
        "df[\"brand\"] = df[\"brand\"].apply(lambda x: x.lower())\n",
        "print(\"Kolom brand setelah apply:\\n\", df[\"brand\"].head())\n",
        "\n",
        "df[\"brand\"] = df[\"brand\"].map(lambda x: x[-1])\n",
        "print(\"Kolom brand setelah map:\\n\", df[\"brand\"].head())"
      ],
      "execution_count": null,
      "outputs": [
        {
          "output_type": "stream",
          "text": [
            "Kolom brand awal:\n",
            " 0    BRAND_C\n",
            "1    BRAND_V\n",
            "2    BRAND_G\n",
            "3    BRAND_B\n",
            "4    BRAND_G\n",
            "Name: brand, dtype: object\n",
            "Kolom brand setelah apply:\n",
            " 0    brand_c\n",
            "1    brand_v\n",
            "2    brand_g\n",
            "3    brand_b\n",
            "4    brand_g\n",
            "Name: brand, dtype: object\n",
            "Kolom brand setelah map:\n",
            " 0    c\n",
            "1    v\n",
            "2    g\n",
            "3    b\n",
            "4    g\n",
            "Name: brand, dtype: object\n"
          ],
          "name": "stdout"
        }
      ]
    },
    {
      "cell_type": "code",
      "metadata": {
        "colab": {
          "base_uri": "https://localhost:8080/"
        },
        "id": "lqPtFXZ6ZEV0",
        "outputId": "581c02ab-0c89-49fe-bc1a-971da550c980"
      },
      "source": [
        "import numpy as np\n",
        "\n",
        "np.random.seed(1234)\n",
        "df_tr = pd.DataFrame(np.random.rand(3,4)) \n",
        "print(\"Dataframe:\\n\", df_tr)\n",
        "df_tr1 = df_tr.applymap(lambda x: x**2+3*x+2) \n",
        "print(\"\\nDataframe - cara 1:\\n\", df_tr1)\n",
        "def qudratic_fun(x):\n",
        "\treturn x**2+3*x+2\n",
        "df_tr2 = df_tr.applymap(qudratic_fun)\n",
        "print(\"\\nDataframe - cara 2:\\n\", df_tr2)"
      ],
      "execution_count": null,
      "outputs": [
        {
          "output_type": "stream",
          "text": [
            "Dataframe:\n",
            "           0         1         2         3\n",
            "0  0.191519  0.622109  0.437728  0.785359\n",
            "1  0.779976  0.272593  0.276464  0.801872\n",
            "2  0.958139  0.875933  0.357817  0.500995\n",
            "\n",
            "Dataframe - cara 1:\n",
            "           0         1         2         3\n",
            "0  2.611238  4.253346  3.504789  4.972864\n",
            "1  4.948290  2.892085  2.905825  5.048616\n",
            "2  5.792449  5.395056  3.201485  3.753981\n",
            "\n",
            "Dataframe - cara 2:\n",
            "           0         1         2         3\n",
            "0  2.611238  4.253346  3.504789  4.972864\n",
            "1  4.948290  2.892085  2.905825  5.048616\n",
            "2  5.792449  5.395056  3.201485  3.753981\n"
          ],
          "name": "stdout"
        }
      ]
    },
    {
      "cell_type": "code",
      "metadata": {
        "colab": {
          "base_uri": "https://localhost:8080/"
        },
        "id": "ccBPJ3wpaTdD",
        "outputId": "56cbd145-eac5-484c-9b38-e39791e6ee98"
      },
      "source": [
        "df = pd.read_csv(\"https://storage.googleapis.com/dqlab-dataset/CHAPTER%204%20-%20missing%20value%20-%20public%20data%20covid19%20.csv\")\n",
        "\n",
        "df.info()\n",
        "mv = df.isna().sum()\n",
        "print(\"\\nJumlah missing value per kolom:\\n\", mv)"
      ],
      "execution_count": null,
      "outputs": [
        {
          "output_type": "stream",
          "text": [
            "<class 'pandas.core.frame.DataFrame'>\n",
            "RangeIndex: 1000 entries, 0 to 999\n",
            "Data columns (total 13 columns):\n",
            " #   Column          Non-Null Count  Dtype  \n",
            "---  ------          --------------  -----  \n",
            " 0   province_state  960 non-null    object \n",
            " 1   country_region  1000 non-null   object \n",
            " 2   date            1000 non-null   object \n",
            " 3   latitude        874 non-null    float64\n",
            " 4   longitude       874 non-null    float64\n",
            " 5   location_geom   874 non-null    object \n",
            " 6   confirmed       1000 non-null   int64  \n",
            " 7   deaths          999 non-null    float64\n",
            " 8   recovered       999 non-null    float64\n",
            " 9   active          949 non-null    float64\n",
            " 10  fips            949 non-null    float64\n",
            " 11  admin2          842 non-null    object \n",
            " 12  combined_key    0 non-null      float64\n",
            "dtypes: float64(7), int64(1), object(5)\n",
            "memory usage: 101.7+ KB\n",
            "\n",
            "Jumlah missing value per kolom:\n",
            " province_state      40\n",
            "country_region       0\n",
            "date                 0\n",
            "latitude           126\n",
            "longitude          126\n",
            "location_geom      126\n",
            "confirmed            0\n",
            "deaths               1\n",
            "recovered            1\n",
            "active              51\n",
            "fips                51\n",
            "admin2             158\n",
            "combined_key      1000\n",
            "dtype: int64\n"
          ],
          "name": "stdout"
        }
      ]
    },
    {
      "cell_type": "markdown",
      "metadata": {
        "id": "Mp8HD6U_bA9O"
      },
      "source": [
        "Pada method .dropna() ada dua keyword argumen yang harus diisikan yaitu axis dan how. Keyword axis digunakan untuk menentukan arah dataframe yang akan dibuang. Angka 1 untuk menyatakan kolom (column-based) atau dapat ditulis dalam string \"column\", sementara angka 0 berarti searah index (row-based) atau dapat ditulis dalam string \"index\". Keyword how digunakan untuk bagaimana cara membuangnya. Opsi yang dapat diterimanya (dalam string) adalah 1.) \"all\" artinya jika seluruh data di satu/beberapa kolom atau di satu/beberapa baris adalah missing value, 2.) \"any\" artinya jika memiliki 1 saja data yang hilang maka buanglah baris/kolom tersebut."
      ]
    },
    {
      "cell_type": "code",
      "metadata": {
        "colab": {
          "base_uri": "https://localhost:8080/"
        },
        "id": "0J4U_hM1bnkA",
        "outputId": "342b6f63-9b49-4a61-b3ef-606eccd8c76e"
      },
      "source": [
        "df = pd.read_csv(\"https://storage.googleapis.com/dqlab-dataset/CHAPTER%204%20-%20missing%20value%20-%20public%20data%20covid19%20.csv\")\n",
        "\n",
        "print(\"Ukuran awal df: %d baris, %d kolom.\" % df.shape)\n",
        "df = df.dropna(axis=1, how=\"all\")\n",
        "print(\"Ukuran df setelah buang kolom dengan seluruh data missing: %d baris, %d kolom.\" % df.shape)\n",
        "df = df.dropna(axis=0, how=\"any\")\n",
        "print(\"Ukuran df setelah dibuang baris yang memiliki sekurangnya 1 missing value: %d baris, %d kolom.\" % df.shape)"
      ],
      "execution_count": null,
      "outputs": [
        {
          "output_type": "stream",
          "text": [
            "Ukuran awal df: 1000 baris, 13 kolom.\n",
            "Ukuran df setelah buang kolom dengan seluruh data missing: 1000 baris, 12 kolom.\n",
            "Ukuran df setelah dibuang baris yang memiliki sekurangnya 1 missing value: 746 baris, 12 kolom.\n"
          ],
          "name": "stdout"
        }
      ]
    },
    {
      "cell_type": "code",
      "metadata": {
        "colab": {
          "base_uri": "https://localhost:8080/"
        },
        "id": "-qRvtv2DcxNH",
        "outputId": "4827f521-dcce-4ab7-c64f-bdf4532d1a34"
      },
      "source": [
        "df = pd.read_csv(\"https://storage.googleapis.com/dqlab-dataset/CHAPTER%204%20-%20missing%20value%20-%20public%20data%20covid19%20.csv\")\n",
        "print(\"Unique value awal:\\n\", df[\"province_state\"].unique())\n",
        "df[\"province_state\"] = df[\"province_state\"].fillna(\"unknown_province_state\")\n",
        "print(\"Unique value setelah fillna:\\n\", df[\"province_state\"].unique())"
      ],
      "execution_count": null,
      "outputs": [
        {
          "output_type": "stream",
          "text": [
            "Unique value awal:\n",
            " [nan 'US' 'Guam' 'Iowa']\n",
            "Unique value setelah fillna:\n",
            " ['unknown_province_state' 'US' 'Guam' 'Iowa']\n"
          ],
          "name": "stdout"
        }
      ]
    },
    {
      "cell_type": "code",
      "metadata": {
        "colab": {
          "base_uri": "https://localhost:8080/"
        },
        "id": "e5MecBYGetk3",
        "outputId": "b53a2ff0-fbc0-44fa-fd60-e35f31b9fcdc"
      },
      "source": [
        "df = pd.read_csv(\"https://storage.googleapis.com/dqlab-dataset/CHAPTER%204%20-%20missing%20value%20-%20public%20data%20covid19%20.csv\")\n",
        "\n",
        "print(\"Awal: mean = %f, median = %f.\" % (df[\"active\"].mean(), df[\"active\"].median()))\n",
        "df_median = df[\"active\"].fillna(df[\"active\"].median())\n",
        "print(\"Fillna median: mean = %f, median = %f.\" % (df_median.mean(), df_median.median()))\n",
        "df_mean = df[\"active\"].fillna(df[\"active\"].mean())\n",
        "print(\"Fillna mean: mean = %f, median = %f.\" % (df_mean.mean(), df_mean.median()))"
      ],
      "execution_count": null,
      "outputs": [
        {
          "output_type": "stream",
          "text": [
            "Awal: mean = 192.571128, median = 41.000000.\n",
            "Fillna median: mean = 184.841000, median = 41.000000.\n",
            "Fillna mean: mean = 192.571128, median = 49.000000.\n"
          ],
          "name": "stdout"
        }
      ]
    },
    {
      "cell_type": "code",
      "metadata": {
        "colab": {
          "base_uri": "https://localhost:8080/"
        },
        "id": "SZDoWm7mgJ5U",
        "outputId": "7c1067d5-7956-4faf-aea2-8706f2820079"
      },
      "source": [
        "ts = pd.Series({\n",
        "   \"2020-01-01\":9,\n",
        "   \"2020-01-02\":np.nan,\n",
        "   \"2020-01-05\":np.nan,\n",
        "   \"2020-01-07\":24,\n",
        "   \"2020-01-10\":np.nan,\n",
        "   \"2020-01-12\":np.nan,\n",
        "   \"2020-01-15\":33,\n",
        "   \"2020-01-17\":np.nan,\n",
        "   \"2020-01-16\":40,\n",
        "   \"2020-01-20\":45,\n",
        "   \"2020-01-22\":52,\n",
        "   \"2020-01-25\":75,\n",
        "   \"2020-01-28\":np.nan,\n",
        "   \"2020-01-30\":np.nan\n",
        "})\n",
        "ts = ts.interpolate()\n",
        "print(\"Setelah diisi missing valuenya:\\n\", ts)"
      ],
      "execution_count": null,
      "outputs": [
        {
          "output_type": "stream",
          "text": [
            "Setelah diisi missing valuenya:\n",
            " 2020-01-01     9.0\n",
            "2020-01-02    14.0\n",
            "2020-01-05    19.0\n",
            "2020-01-07    24.0\n",
            "2020-01-10    27.0\n",
            "2020-01-12    30.0\n",
            "2020-01-15    33.0\n",
            "2020-01-17    36.5\n",
            "2020-01-16    40.0\n",
            "2020-01-20    45.0\n",
            "2020-01-22    52.0\n",
            "2020-01-25    75.0\n",
            "2020-01-28    75.0\n",
            "2020-01-30    75.0\n",
            "dtype: float64\n"
          ],
          "name": "stdout"
        }
      ]
    },
    {
      "cell_type": "code",
      "metadata": {
        "colab": {
          "base_uri": "https://localhost:8080/"
        },
        "id": "ESvB3Xse1UuR",
        "outputId": "1cf35b93-c31a-4555-a219-d20258603d09"
      },
      "source": [
        "#Exercise\n",
        "import pandas as pd\n",
        "import math\n",
        "\n",
        "#1\n",
        "print(\"[1] BACA DATASET\")\n",
        "df = pd.read_csv(\"https://storage.googleapis.com/dqlab-dataset/retail_raw_test.csv\", low_memory=False)\n",
        "print(\"    Dataset:\\n\", df.head())\n",
        "print(\"    Info:\\n\", df.info())\n",
        "\n",
        "#2\n",
        "print(\"\\n[2] UBAH TIPE DATA\")\n",
        "df[\"customer_id\"] = df[\"customer_id\"].apply(lambda x: x.split(\"'\")[1]).astype(\"int64\")\n",
        "df[\"quantity\"] = df[\"quantity\"].apply(lambda x: x.split(\"'\")[1]).astype(\"int64\")\n",
        "df[\"item_price\"] = df[\"item_price\"].apply(lambda x: x.split(\"'\")[1]).astype(\"int64\")\n",
        "print(\"    Tipe data:\\n\", df.dtypes)\n",
        "\n",
        "#3\n",
        "'''\n",
        "Karena ketika dicek dengan .info() masih ada yang kosong (NaN) pada kolom product_value,\n",
        "sehingga tidak bisa langsung diconvert ke string ('nan') atau pad 0 dan concat dgn char 'P' ('P0nan')\n",
        "'''\n",
        "print(\"\\n[3] TRANSFORM product_value MENJADI product_id\")\n",
        "def impute_product_value(val):\n",
        "\tif math.isnan(val):\n",
        "\t\treturn \"unknown\"\n",
        "\telse:\n",
        "\t\treturn 'P' + '{:0>4}'.format(str(val).split('.')[0])\n",
        "\n",
        "df[\"product_id\"] = df[\"product_value\"].apply(lambda x: impute_product_value(x))\n",
        "df.drop([\"product_value\"], axis=1, inplace=True)\n",
        "print(df.head())\n",
        "\n",
        "#4\n",
        "'''\n",
        "Format datetime di sini ('Jan 1, 2019') tidak ideal dalam environment pandas, sehingga perlu\n",
        "ditranslate menjadi format yang ideal ('2019-01-01').\n",
        "'''\n",
        "print(\"\\n[4] TRANSFORM order_date MENJADI FORMAT YYYY-mm-dd\")\n",
        "months_dict = {\n",
        "   \"Jan\":\"01\",\n",
        "   \"Feb\":\"02\",\n",
        "   \"Mar\":\"03\",\n",
        "   \"Apr\":\"04\",\n",
        "   \"May\":\"05\",\n",
        "   \"Jun\":\"06\",\n",
        "   \"Jul\":\"07\",\n",
        "   \"Aug\":\"08\",\n",
        "   \"Sep\":\"09\",\n",
        "   \"Oct\":\"10\",\n",
        "   \"Nov\":\"11\",\n",
        "   \"Dec\":\"12\"\n",
        "}\n",
        "df[\"order_date\"] = pd.to_datetime(df[\"order_date\"].apply(lambda x: str(x)[-4:] + \"-\" + months_dict[str(x)[:3]] + \"-\" + str(x)[4:7]))\n",
        "print(\"    Tipe data:\\n\", df.dtypes)\n",
        "\n",
        "\n",
        "#5\n",
        "print(\"\\n[5] HANDLING MISSING VALUE\")\n",
        "df[[\"city\",\"province\"]] = df[[\"city\",\"province\"]].fillna(\"unknown\")\n",
        "df[\"brand\"] = df[\"brand\"].fillna(\"no_brand\")\n",
        "print(\"    Info:\\n\", df.info())\n",
        "\n",
        "#6\n",
        "print(\"\\n[6] MEMBUAT KOLOM BARU city/province\")\n",
        "df[\"city/province\"] = df[\"city\"] + \"/\" + df[\"province\"]\n",
        "df.drop([\"city\",\"province\"], axis=1, inplace=True)\n",
        "print(df.head())\n",
        "\n",
        "#7\n",
        "print(\"\\n[7] MEMBUAT HIERACHICAL INDEX\")\n",
        "df = df.set_index([\"city/province\",\"order_date\",\"customer_id\",\"order_id\",\"product_id\"])\n",
        "df = df.sort_index()\n",
        "print(df.head())\n",
        "\n",
        "#8\n",
        "print(\"\\n[8] MEMBUAT KOLOM total_price\")\n",
        "df[\"total_price\"] = df[\"quantity\"] * df[\"item_price\"]\n",
        "print(df.head())\n",
        "\n",
        "#9\n",
        "print(\"\\n[9] SLICE DATASET UNTUK BULAN JANUARI 2019 SAJA\")\n",
        "idx = pd.IndexSlice\n",
        "df_jan2019 = df.loc[idx[:, \"2019-01-01\":\"2019-01-31\"], :]\n",
        "print(\"Dataset akhir:\\n\", df_jan2019)"
      ],
      "execution_count": null,
      "outputs": [
        {
          "output_type": "stream",
          "text": [
            "[1] BACA DATASET\n",
            "    Dataset:\n",
            "    order_id    order_date customer_id  ... quantity item_price product_value\n",
            "0   1730350  Dec 11, 2019      '13447  ...      '24    '113000        1374.0\n",
            "1   1677490  Jul 31, 2019          '0  ...       '1   '1164000        1370.0\n",
            "2   1704211  Oct 18, 2019      '16128  ...      '12    '747000        1679.0\n",
            "3   1679695  Aug 07, 2019      '16225  ...       '6    '590000        1708.0\n",
            "4   1679080  Aug 05, 2019          '0  ...       '2    '740000        1201.0\n",
            "\n",
            "[5 rows x 9 columns]\n",
            "<class 'pandas.core.frame.DataFrame'>\n",
            "RangeIndex: 5000 entries, 0 to 4999\n",
            "Data columns (total 9 columns):\n",
            " #   Column         Non-Null Count  Dtype  \n",
            "---  ------         --------------  -----  \n",
            " 0   order_id       5000 non-null   int64  \n",
            " 1   order_date     5000 non-null   object \n",
            " 2   customer_id    5000 non-null   object \n",
            " 3   city           3802 non-null   object \n",
            " 4   province       3802 non-null   object \n",
            " 5   brand          4995 non-null   object \n",
            " 6   quantity       5000 non-null   object \n",
            " 7   item_price     5000 non-null   object \n",
            " 8   product_value  4995 non-null   float64\n",
            "dtypes: float64(1), int64(1), object(7)\n",
            "memory usage: 351.7+ KB\n",
            "    Info:\n",
            " None\n",
            "\n",
            "[2] UBAH TIPE DATA\n",
            "    Tipe data:\n",
            " order_id           int64\n",
            "order_date        object\n",
            "customer_id        int64\n",
            "city              object\n",
            "province          object\n",
            "brand             object\n",
            "quantity           int64\n",
            "item_price         int64\n",
            "product_value    float64\n",
            "dtype: object\n",
            "\n",
            "[3] TRANSFORM product_value MENJADI product_id\n",
            "   order_id    order_date  customer_id  ... quantity item_price product_id\n",
            "0   1730350  Dec 11, 2019        13447  ...       24     113000      P1374\n",
            "1   1677490  Jul 31, 2019            0  ...        1    1164000      P1370\n",
            "2   1704211  Oct 18, 2019        16128  ...       12     747000      P1679\n",
            "3   1679695  Aug 07, 2019        16225  ...        6     590000      P1708\n",
            "4   1679080  Aug 05, 2019            0  ...        2     740000      P1201\n",
            "\n",
            "[5 rows x 9 columns]\n",
            "\n",
            "[4] TRANSFORM order_date MENJADI FORMAT YYYY-mm-dd\n",
            "    Tipe data:\n",
            " order_id                int64\n",
            "order_date     datetime64[ns]\n",
            "customer_id             int64\n",
            "city                   object\n",
            "province               object\n",
            "brand                  object\n",
            "quantity                int64\n",
            "item_price              int64\n",
            "product_id             object\n",
            "dtype: object\n",
            "\n",
            "[5] HANDLING MISSING VALUE\n",
            "<class 'pandas.core.frame.DataFrame'>\n",
            "RangeIndex: 5000 entries, 0 to 4999\n",
            "Data columns (total 9 columns):\n",
            " #   Column       Non-Null Count  Dtype         \n",
            "---  ------       --------------  -----         \n",
            " 0   order_id     5000 non-null   int64         \n",
            " 1   order_date   5000 non-null   datetime64[ns]\n",
            " 2   customer_id  5000 non-null   int64         \n",
            " 3   city         5000 non-null   object        \n",
            " 4   province     5000 non-null   object        \n",
            " 5   brand        5000 non-null   object        \n",
            " 6   quantity     5000 non-null   int64         \n",
            " 7   item_price   5000 non-null   int64         \n",
            " 8   product_id   5000 non-null   object        \n",
            "dtypes: datetime64[ns](1), int64(4), object(4)\n",
            "memory usage: 351.7+ KB\n",
            "    Info:\n",
            " None\n",
            "\n",
            "[6] MEMBUAT KOLOM BARU city/province\n",
            "   order_id order_date  ...  product_id              city/province\n",
            "0   1730350 2019-12-11  ...       P1374      Surakarta/Jawa Tengah\n",
            "1   1677490 2019-07-31  ...       P1370            unknown/unknown\n",
            "2   1704211 2019-10-18  ...       P1679  Jakarta Pusat/DKI Jakarta\n",
            "3   1679695 2019-08-07  ...       P1708      Yogyakarta/Yogyakarta\n",
            "4   1679080 2019-08-05  ...       P1201            unknown/unknown\n",
            "\n",
            "[5 rows x 8 columns]\n",
            "\n",
            "[7] MEMBUAT HIERACHICAL INDEX\n",
            "                                                                     brand  ...  item_price\n",
            "city/province          order_date customer_id order_id product_id           ...            \n",
            "Banda Aceh/Aceh        2019-04-17 12818       1642480  P1936       BRAND_K  ...      450000\n",
            "                       2019-11-12 12360       1715116  P0758       BRAND_C  ...      695000\n",
            "                                                       P3042       BRAND_R  ...      310000\n",
            "                       2019-12-09 12374       1729036  P1660       BRAND_G  ...     2795000\n",
            "Bandar Lampung/Lampung 2019-01-15 12515       1619257  P0628       BRAND_C  ...      695000\n",
            "\n",
            "[5 rows x 3 columns]\n",
            "\n",
            "[8] MEMBUAT KOLOM total_price\n",
            "                                                                     brand  ...  total_price\n",
            "city/province          order_date customer_id order_id product_id           ...             \n",
            "Banda Aceh/Aceh        2019-04-17 12818       1642480  P1936       BRAND_K  ...     10800000\n",
            "                       2019-11-12 12360       1715116  P0758       BRAND_C  ...      5560000\n",
            "                                                       P3042       BRAND_R  ...      3720000\n",
            "                       2019-12-09 12374       1729036  P1660       BRAND_G  ...     11180000\n",
            "Bandar Lampung/Lampung 2019-01-15 12515       1619257  P0628       BRAND_C  ...      8340000\n",
            "\n",
            "[5 rows x 4 columns]\n",
            "\n",
            "[9] SLICE DATASET UNTUK BULAN JANUARI 2019 SAJA\n",
            "Dataset akhir:\n",
            "                                                                      brand  ...  total_price\n",
            "city/province          order_date customer_id order_id product_id           ...             \n",
            "Bandar Lampung/Lampung 2019-01-15 12515       1619257  P0628       BRAND_C  ...      8340000\n",
            "Bandung/Jawa Barat     2019-01-09 16134       1617055  P1597       BRAND_G  ...      4680000\n",
            "                       2019-01-10 17392       1617952  P2137       BRAND_M  ...      2124000\n",
            "                       2019-01-14 15527       1618828  P3115       BRAND_S  ...      1045000\n",
            "                       2019-01-29 13253       1620289  P0099       BRAND_A  ...      5400000\n",
            "...                                                                    ...  ...          ...\n",
            "unknown/unknown        2019-01-30 0           1620766  P3070       BRAND_R  ...       593000\n",
            "                                                       P3483       BRAND_S  ...      1779000\n",
            "                       2019-01-31 0           1621057  P1298       BRAND_F  ...       296000\n",
            "                                                       P1773       BRAND_H  ...      2965000\n",
            "                                                       P2877       BRAND_R  ...      1486000\n",
            "\n",
            "[334 rows x 4 columns]\n"
          ],
          "name": "stdout"
        }
      ]
    }
  ]
}